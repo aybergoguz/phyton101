{
 "cells": [
  {
   "cell_type": "code",
   "execution_count": 3,
   "id": "a439f56b",
   "metadata": {},
   "outputs": [],
   "source": [
    "    benimBoolean=True"
   ]
  },
  {
   "cell_type": "code",
   "execution_count": 2,
   "id": "2801434c",
   "metadata": {},
   "outputs": [
    {
     "data": {
      "text/plain": [
       "bool"
      ]
     },
     "execution_count": 2,
     "metadata": {},
     "output_type": "execute_result"
    }
   ],
   "source": [
    "type(benimBoolean)"
   ]
  },
  {
   "cell_type": "code",
   "execution_count": 4,
   "id": "4a4fcc4b",
   "metadata": {},
   "outputs": [
    {
     "data": {
      "text/plain": [
       "True"
      ]
     },
     "execution_count": 4,
     "metadata": {},
     "output_type": "execute_result"
    }
   ],
   "source": [
    "5>4"
   ]
  },
  {
   "cell_type": "code",
   "execution_count": 5,
   "id": "65b4ad40",
   "metadata": {},
   "outputs": [
    {
     "data": {
      "text/plain": [
       "False"
      ]
     },
     "execution_count": 5,
     "metadata": {},
     "output_type": "execute_result"
    }
   ],
   "source": [
    "10<5"
   ]
  },
  {
   "cell_type": "code",
   "execution_count": 6,
   "id": "0ec28e82",
   "metadata": {},
   "outputs": [],
   "source": [
    "listem=[10,20,30,40,70,90]"
   ]
  },
  {
   "cell_type": "code",
   "execution_count": 7,
   "id": "329c22ae",
   "metadata": {},
   "outputs": [],
   "source": [
    "ortalama=sum(listem)/len(listem)"
   ]
  },
  {
   "cell_type": "code",
   "execution_count": 8,
   "id": "7bd94abe",
   "metadata": {},
   "outputs": [
    {
     "name": "stdout",
     "output_type": "stream",
     "text": [
      "sayi gir62\n"
     ]
    }
   ],
   "source": [
    "x=input(\"sayi gir\")"
   ]
  },
  {
   "cell_type": "code",
   "execution_count": 10,
   "id": "abf015e7",
   "metadata": {},
   "outputs": [
    {
     "data": {
      "text/plain": [
       "False"
      ]
     },
     "execution_count": 10,
     "metadata": {},
     "output_type": "execute_result"
    }
   ],
   "source": [
    "ortalama>int(x)"
   ]
  },
  {
   "cell_type": "code",
   "execution_count": 11,
   "id": "c832ad3f",
   "metadata": {},
   "outputs": [],
   "source": [
    "x=8\n",
    "y=9"
   ]
  },
  {
   "cell_type": "code",
   "execution_count": 12,
   "id": "0162a558",
   "metadata": {},
   "outputs": [
    {
     "data": {
      "text/plain": [
       "False"
      ]
     },
     "execution_count": 12,
     "metadata": {},
     "output_type": "execute_result"
    }
   ],
   "source": [
    "x>=y"
   ]
  },
  {
   "cell_type": "code",
   "execution_count": 13,
   "id": "8f2066d3",
   "metadata": {},
   "outputs": [
    {
     "data": {
      "text/plain": [
       "False"
      ]
     },
     "execution_count": 13,
     "metadata": {},
     "output_type": "execute_result"
    }
   ],
   "source": [
    "x==y"
   ]
  },
  {
   "cell_type": "code",
   "execution_count": 14,
   "id": "9e94fa05",
   "metadata": {},
   "outputs": [
    {
     "data": {
      "text/plain": [
       "True"
      ]
     },
     "execution_count": 14,
     "metadata": {},
     "output_type": "execute_result"
    }
   ],
   "source": [
    "x!=y"
   ]
  },
  {
   "cell_type": "code",
   "execution_count": 16,
   "id": "a71e4fbe",
   "metadata": {},
   "outputs": [
    {
     "data": {
      "text/plain": [
       "False"
      ]
     },
     "execution_count": 16,
     "metadata": {},
     "output_type": "execute_result"
    }
   ],
   "source": [
    "x<y | x!=y"
   ]
  },
  {
   "cell_type": "code",
   "execution_count": 17,
   "id": "2607e84d",
   "metadata": {},
   "outputs": [
    {
     "data": {
      "text/plain": [
       "False"
      ]
     },
     "execution_count": 17,
     "metadata": {},
     "output_type": "execute_result"
    }
   ],
   "source": [
    "x<y & x!=y"
   ]
  },
  {
   "cell_type": "code",
   "execution_count": 18,
   "id": "67fc06e7",
   "metadata": {},
   "outputs": [
    {
     "ename": "SyntaxError",
     "evalue": "invalid syntax (4113097217.py, line 1)",
     "output_type": "error",
     "traceback": [
      "\u001b[0;36m  File \u001b[0;32m\"/var/folders/zp/m62c6py54hg475869ms5bt8h0000gn/T/ipykernel_27985/4113097217.py\"\u001b[0;36m, line \u001b[0;32m1\u001b[0m\n\u001b[0;31m    x>y xor x!=y\u001b[0m\n\u001b[0m        ^\u001b[0m\n\u001b[0;31mSyntaxError\u001b[0m\u001b[0;31m:\u001b[0m invalid syntax\n"
     ]
    }
   ],
   "source": [
    "x>y xor x!=y"
   ]
  },
  {
   "cell_type": "code",
   "execution_count": 19,
   "id": "e053611d",
   "metadata": {},
   "outputs": [
    {
     "data": {
      "text/plain": [
       "True"
      ]
     },
     "execution_count": 19,
     "metadata": {},
     "output_type": "execute_result"
    }
   ],
   "source": [
    "not 5==4"
   ]
  },
  {
   "cell_type": "code",
   "execution_count": null,
   "id": "368e6533",
   "metadata": {},
   "outputs": [],
   "source": []
  }
 ],
 "metadata": {
  "kernelspec": {
   "display_name": "Python 3 (ipykernel)",
   "language": "python",
   "name": "python3"
  },
  "language_info": {
   "codemirror_mode": {
    "name": "ipython",
    "version": 3
   },
   "file_extension": ".py",
   "mimetype": "text/x-python",
   "name": "python",
   "nbconvert_exporter": "python",
   "pygments_lexer": "ipython3",
   "version": "3.9.7"
  }
 },
 "nbformat": 4,
 "nbformat_minor": 5
}
