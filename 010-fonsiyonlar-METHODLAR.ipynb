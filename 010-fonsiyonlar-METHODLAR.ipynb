{
 "cells": [
  {
   "cell_type": "code",
   "execution_count": 5,
   "id": "7080a927",
   "metadata": {},
   "outputs": [
    {
     "data": {
      "text/plain": [
       "'AYBERG'"
      ]
     },
     "execution_count": 5,
     "metadata": {},
     "output_type": "execute_result"
    }
   ],
   "source": [
    "benimAdım=\"ayberg\"\n",
    "x=benimAdım.upper()\n",
    "x"
   ]
  },
  {
   "cell_type": "code",
   "execution_count": 6,
   "id": "5a8ab7a4",
   "metadata": {},
   "outputs": [],
   "source": [
    "def ilkFonksiyon():\n",
    "    print(\"ilk fonksiyonum\")"
   ]
  },
  {
   "cell_type": "code",
   "execution_count": 7,
   "id": "58664ee2",
   "metadata": {},
   "outputs": [
    {
     "name": "stdout",
     "output_type": "stream",
     "text": [
      "ilk fonksiyonum\n"
     ]
    }
   ],
   "source": [
    "ilkFonksiyon()"
   ]
  },
  {
   "cell_type": "markdown",
   "id": "ca55f52a",
   "metadata": {},
   "source": [
    "## input--return"
   ]
  },
  {
   "cell_type": "code",
   "execution_count": 11,
   "id": "57e7cdc9",
   "metadata": {},
   "outputs": [
    {
     "name": "stdout",
     "output_type": "stream",
     "text": [
      "merhaba\n",
      "ayberg\n"
     ]
    }
   ],
   "source": [
    "def merhaba(isim):\n",
    "    print(\"merhaba\")\n",
    "    print(isim)\n",
    "merhaba(\"ayberg\")    "
   ]
  },
  {
   "cell_type": "code",
   "execution_count": 15,
   "id": "710c7b58",
   "metadata": {},
   "outputs": [
    {
     "name": "stdout",
     "output_type": "stream",
     "text": [
      "merhaba\n",
      "ayberg\n"
     ]
    }
   ],
   "source": [
    "def merhaba1(isim=\"ayberg\"):\n",
    "    print(\"merhaba\")\n",
    "    print(isim)\n",
    "merhaba1()"
   ]
  },
  {
   "cell_type": "code",
   "execution_count": 18,
   "id": "22ae19ec",
   "metadata": {},
   "outputs": [
    {
     "name": "stdout",
     "output_type": "stream",
     "text": [
      "7\n"
     ]
    }
   ],
   "source": [
    "def toplama(no1,no2):\n",
    "    sonuc=no1+no2\n",
    "    print(sonuc)\n",
    "x=toplama(3,4)\n",
    "x"
   ]
  },
  {
   "cell_type": "code",
   "execution_count": 19,
   "id": "d4ef86a6",
   "metadata": {},
   "outputs": [
    {
     "data": {
      "text/plain": [
       "NoneType"
      ]
     },
     "execution_count": 19,
     "metadata": {},
     "output_type": "execute_result"
    }
   ],
   "source": [
    "type(x)"
   ]
  },
  {
   "cell_type": "code",
   "execution_count": 22,
   "id": "ee6bf045",
   "metadata": {},
   "outputs": [
    {
     "data": {
      "text/plain": [
       "8"
      ]
     },
     "execution_count": 22,
     "metadata": {},
     "output_type": "execute_result"
    }
   ],
   "source": [
    "def dondurmeliToplama(num1,num2):\n",
    "    return num1+num2\n",
    "y=dondurmeliToplama(3,5)\n",
    "y"
   ]
  },
  {
   "cell_type": "code",
   "execution_count": 23,
   "id": "c06975ea",
   "metadata": {},
   "outputs": [
    {
     "data": {
      "text/plain": [
       "int"
      ]
     },
     "execution_count": 23,
     "metadata": {},
     "output_type": "execute_result"
    }
   ],
   "source": [
    "type(y)"
   ]
  },
  {
   "cell_type": "markdown",
   "id": "86216394",
   "metadata": {},
   "source": [
    "## args keyWordArgs"
   ]
  },
  {
   "cell_type": "code",
   "execution_count": 26,
   "id": "962c0c60",
   "metadata": {},
   "outputs": [
    {
     "data": {
      "text/plain": [
       "100"
      ]
     },
     "execution_count": 26,
     "metadata": {},
     "output_type": "execute_result"
    }
   ],
   "source": [
    "def yeniToplama(*args):\n",
    "    return sum(args)\n",
    "d=yeniToplama(10,20,30,40)\n",
    "d"
   ]
  },
  {
   "cell_type": "code",
   "execution_count": 28,
   "id": "7d5a17b4",
   "metadata": {},
   "outputs": [
    {
     "data": {
      "text/plain": [
       "15"
      ]
     },
     "execution_count": 28,
     "metadata": {},
     "output_type": "execute_result"
    }
   ],
   "source": [
    "e=yeniToplama(1,2,3,4,5)\n",
    "e"
   ]
  },
  {
   "cell_type": "code",
   "execution_count": 7,
   "id": "d91d5a93",
   "metadata": {},
   "outputs": [
    {
     "data": {
      "text/plain": [
       "{'muz': 100, 'elma': 200, 'armut': 300}"
      ]
     },
     "execution_count": 7,
     "metadata": {},
     "output_type": "execute_result"
    }
   ],
   "source": [
    "def ornekFonk(**kwargs):\n",
    "    return(kwargs)\n",
    "ornekFonk(muz=100,elma=200,armut=300)"
   ]
  },
  {
   "cell_type": "code",
   "execution_count": 8,
   "id": "94f29d95",
   "metadata": {},
   "outputs": [
    {
     "data": {
      "text/plain": [
       "dict"
      ]
     },
     "execution_count": 8,
     "metadata": {},
     "output_type": "execute_result"
    }
   ],
   "source": [
    "type(ornekFonk(muz=100,elma=200,armut=300))"
   ]
  },
  {
   "cell_type": "code",
   "execution_count": 14,
   "id": "9d1662c5",
   "metadata": {},
   "outputs": [
    {
     "name": "stdout",
     "output_type": "stream",
     "text": [
      "yok\n"
     ]
    }
   ],
   "source": [
    "def keywordControl(**kwargs):\n",
    "    if \"ali\" in kwargs:\n",
    "        print(\"var\")\n",
    "    else:\n",
    "        print(\"yok\")\n",
    "keywordControl(ayberg=40,zeynep=20,sündüz=35)"
   ]
  },
  {
   "cell_type": "code",
   "execution_count": null,
   "id": "d94a1e2b",
   "metadata": {},
   "outputs": [],
   "source": []
  }
 ],
 "metadata": {
  "kernelspec": {
   "display_name": "Python 3 (ipykernel)",
   "language": "python",
   "name": "python3"
  },
  "language_info": {
   "codemirror_mode": {
    "name": "ipython",
    "version": 3
   },
   "file_extension": ".py",
   "mimetype": "text/x-python",
   "name": "python",
   "nbconvert_exporter": "python",
   "pygments_lexer": "ipython3",
   "version": "3.9.7"
  }
 },
 "nbformat": 4,
 "nbformat_minor": 5
}
