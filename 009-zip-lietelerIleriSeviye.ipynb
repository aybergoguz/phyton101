{
 "cells": [
  {
   "cell_type": "markdown",
   "id": "f50f279c",
   "metadata": {},
   "source": [
    "## zip"
   ]
  },
  {
   "cell_type": "code",
   "execution_count": 17,
   "id": "488f350b",
   "metadata": {},
   "outputs": [
    {
     "name": "stdout",
     "output_type": "stream",
     "text": [
      "('muz', 100, 'salı')\n",
      "('ananas', 200, 'çarşamba')\n",
      "('elma', 300, 'perşembe')\n"
     ]
    },
    {
     "data": {
      "text/plain": [
       "[('muz', 100, 'salı'), ('ananas', 200, 'çarşamba'), ('elma', 300, 'perşembe')]"
      ]
     },
     "execution_count": 17,
     "metadata": {},
     "output_type": "execute_result"
    }
   ],
   "source": [
    "yemekListesi=[\"muz\",\"ananas\",\"elma\"]\n",
    "kaloriListesi=[100,200,300]\n",
    "gunListesi=[\"salı\",\"çarşamba\",\"perşembe\"]\n",
    "ziplenmisListe=list(zip(yemekListesi,kaloriListesi,gunListesi))\n",
    "for eleman in ziplenmisListe:\n",
    "    print(eleman)\n",
    "ziplenmisListe"
   ]
  },
  {
   "cell_type": "markdown",
   "id": "886bbda3",
   "metadata": {},
   "source": [
    "## listeler ileri seviye"
   ]
  },
  {
   "cell_type": "code",
   "execution_count": 20,
   "id": "c0a07813",
   "metadata": {},
   "outputs": [
    {
     "data": {
      "text/plain": [
       "['A', 'y', 'b', 'e', 'r', 'g']"
      ]
     },
     "execution_count": 20,
     "metadata": {},
     "output_type": "execute_result"
    }
   ],
   "source": [
    "listeOrnegi=[]\n",
    "benimString=\"Ayberg\"\n",
    "for harf in benimString:\n",
    "    listeOrnegi.append(harf)\n",
    "listeOrnegi"
   ]
  },
  {
   "cell_type": "code",
   "execution_count": 21,
   "id": "f81966fe",
   "metadata": {},
   "outputs": [
    {
     "data": {
      "text/plain": [
       "['A', 'y', 'b', 'e', 'r', 'g']"
      ]
     },
     "execution_count": 21,
     "metadata": {},
     "output_type": "execute_result"
    }
   ],
   "source": [
    "yeniString=\"Ayberg\"\n",
    "yeniListeOrnegi=[eleman for eleman in yeniString]\n",
    "yeniListeOrnegi"
   ]
  },
  {
   "cell_type": "code",
   "execution_count": 23,
   "id": "46d2df7f",
   "metadata": {},
   "outputs": [
    {
     "data": {
      "text/plain": [
       "[0, 5, 10, 15, 20, 25, 30, 35, 40, 45]"
      ]
     },
     "execution_count": 23,
     "metadata": {},
     "output_type": "execute_result"
    }
   ],
   "source": [
    "yeniListe2=[numara*5 for numara in list(range(0,10))]\n",
    "yeniListe2"
   ]
  },
  {
   "cell_type": "code",
   "execution_count": null,
   "id": "db2bde4c",
   "metadata": {},
   "outputs": [],
   "source": []
  }
 ],
 "metadata": {
  "kernelspec": {
   "display_name": "Python 3 (ipykernel)",
   "language": "python",
   "name": "python3"
  },
  "language_info": {
   "codemirror_mode": {
    "name": "ipython",
    "version": 3
   },
   "file_extension": ".py",
   "mimetype": "text/x-python",
   "name": "python",
   "nbconvert_exporter": "python",
   "pygments_lexer": "ipython3",
   "version": "3.9.7"
  }
 },
 "nbformat": 4,
 "nbformat_minor": 5
}
