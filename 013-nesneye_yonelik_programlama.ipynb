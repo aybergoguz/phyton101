{
 "cells": [
  {
   "cell_type": "markdown",
   "id": "e21e4023",
   "metadata": {},
   "source": [
    "## instance attribute"
   ]
  },
  {
   "cell_type": "code",
   "execution_count": 27,
   "id": "43d28a0d",
   "metadata": {},
   "outputs": [],
   "source": [
    "class SuperKahraman():\n",
    "    ozelGuc=\"uçmak\"\n",
    "    def __init__(self,isim,yas,meslek):\n",
    "        print(\"init çağrıldı\")\n",
    "        self.isim=isim\n",
    "        self.yas=yas\n",
    "        self.meslek=meslek\n",
    "    def ornekMethod(self):\n",
    "        print(f\"ben süper kahramanım ve mesleğim: {self.meslek}\")"
   ]
  },
  {
   "cell_type": "code",
   "execution_count": 28,
   "id": "33a0a6ce",
   "metadata": {},
   "outputs": [
    {
     "name": "stdout",
     "output_type": "stream",
     "text": [
      "init çağrıldı\n"
     ]
    }
   ],
   "source": [
    "superman=SuperKahraman(\"Clark\",30,\"Gazeteci\")"
   ]
  },
  {
   "cell_type": "code",
   "execution_count": 29,
   "id": "79768a68",
   "metadata": {},
   "outputs": [
    {
     "data": {
      "text/plain": [
       "'Clark'"
      ]
     },
     "execution_count": 29,
     "metadata": {},
     "output_type": "execute_result"
    }
   ],
   "source": [
    "superman.isim"
   ]
  },
  {
   "cell_type": "code",
   "execution_count": 30,
   "id": "156c343f",
   "metadata": {},
   "outputs": [
    {
     "name": "stdout",
     "output_type": "stream",
     "text": [
      "ben süper kahramanım ve mesleğim: Gazeteci\n"
     ]
    }
   ],
   "source": [
    "superman.ornekMethod()"
   ]
  },
  {
   "cell_type": "code",
   "execution_count": 53,
   "id": "1a3c3117",
   "metadata": {},
   "outputs": [
    {
     "data": {
      "text/plain": [
       "5"
      ]
     },
     "execution_count": 53,
     "metadata": {},
     "output_type": "execute_result"
    }
   ],
   "source": [
    "class Kopek():\n",
    "    yilCarpani=7\n",
    "    def __init__(self,yas=3):\n",
    "        self.yas=yas\n",
    "    def insanYasi(self):\n",
    "        return self.yas*7\n",
    "    def insanYasi1(self):\n",
    "        return self.yas*Kopek.yilCarpani\n",
    "    def insanYasi2(self):\n",
    "        return self.yas*self.yilCarpani\n",
    "benimkopek=Kopek(5)\n",
    "benimkopek.yas"
   ]
  },
  {
   "cell_type": "code",
   "execution_count": 45,
   "id": "84a1101e",
   "metadata": {},
   "outputs": [
    {
     "data": {
      "text/plain": [
       "35"
      ]
     },
     "execution_count": 45,
     "metadata": {},
     "output_type": "execute_result"
    }
   ],
   "source": [
    "benimkopek.insanYasi()"
   ]
  },
  {
   "cell_type": "code",
   "execution_count": 51,
   "id": "5748dce9",
   "metadata": {},
   "outputs": [
    {
     "data": {
      "text/plain": [
       "35"
      ]
     },
     "execution_count": 51,
     "metadata": {},
     "output_type": "execute_result"
    }
   ],
   "source": [
    "benimkopek.insanYasi1()"
   ]
  },
  {
   "cell_type": "code",
   "execution_count": 55,
   "id": "b22376ec",
   "metadata": {},
   "outputs": [
    {
     "data": {
      "text/plain": [
       "35"
      ]
     },
     "execution_count": 55,
     "metadata": {},
     "output_type": "execute_result"
    }
   ],
   "source": [
    "benimkopek.insanYasi2()"
   ]
  },
  {
   "cell_type": "markdown",
   "id": "62de7d22",
   "metadata": {},
   "source": [
    "##  inheritance kalıtım miras alma"
   ]
  },
  {
   "cell_type": "code",
   "execution_count": 62,
   "id": "3879a1c0",
   "metadata": {},
   "outputs": [],
   "source": [
    "class Hayvan():\n",
    "    def __init__(self):\n",
    "        print(\"hayvan sınıf init çağrıldı\")\n",
    "    def method1(self):\n",
    "        print(\"method1 çağrıldı\")\n",
    "    def method2(self):\n",
    "        print(\"methood2 çağrıldı\")"
   ]
  },
  {
   "cell_type": "code",
   "execution_count": 63,
   "id": "88ea8b2c",
   "metadata": {},
   "outputs": [
    {
     "name": "stdout",
     "output_type": "stream",
     "text": [
      "hayvan sınıf init çağrıldı\n"
     ]
    }
   ],
   "source": [
    "benimHayvanım=Hayvan()"
   ]
  },
  {
   "cell_type": "code",
   "execution_count": 64,
   "id": "22bd1fab",
   "metadata": {},
   "outputs": [
    {
     "name": "stdout",
     "output_type": "stream",
     "text": [
      "method1 çağrıldı\n"
     ]
    }
   ],
   "source": [
    "benimHayvanım.method1()"
   ]
  },
  {
   "cell_type": "code",
   "execution_count": 65,
   "id": "22ab7f3a",
   "metadata": {},
   "outputs": [
    {
     "name": "stdout",
     "output_type": "stream",
     "text": [
      "methood2 çağrıldı\n"
     ]
    }
   ],
   "source": [
    "benimHayvanım.method2()"
   ]
  },
  {
   "cell_type": "code",
   "execution_count": 75,
   "id": "a78fea2c",
   "metadata": {},
   "outputs": [],
   "source": [
    "class Kedi(Hayvan):\n",
    "    def __init__(self):\n",
    "        Hayvan.__init__(self)\n",
    "        print(\"kedi sınıfı init çağrıldı\")\n",
    "    def miyavla(self):\n",
    "        print(\"miyav\")\n",
    "        #override\n",
    "    def method1(self):\n",
    "        print(\"kedi sınıfında nethod1 çağrıldı\")"
   ]
  },
  {
   "cell_type": "code",
   "execution_count": 76,
   "id": "26c637c6",
   "metadata": {},
   "outputs": [
    {
     "name": "stdout",
     "output_type": "stream",
     "text": [
      "hayvan sınıf init çağrıldı\n",
      "kedi sınıfı init çağrıldı\n"
     ]
    }
   ],
   "source": [
    "benimKedim=Kedi()"
   ]
  },
  {
   "cell_type": "code",
   "execution_count": 77,
   "id": "19b3dddc",
   "metadata": {},
   "outputs": [
    {
     "name": "stdout",
     "output_type": "stream",
     "text": [
      "kedi sınıfında nethod1 çağrıldı\n"
     ]
    }
   ],
   "source": [
    "benimKedim.method1()"
   ]
  },
  {
   "cell_type": "code",
   "execution_count": 78,
   "id": "f7668664",
   "metadata": {},
   "outputs": [
    {
     "name": "stdout",
     "output_type": "stream",
     "text": [
      "methood2 çağrıldı\n"
     ]
    }
   ],
   "source": [
    "benimKedim.method2()"
   ]
  },
  {
   "cell_type": "code",
   "execution_count": 80,
   "id": "08887343",
   "metadata": {},
   "outputs": [
    {
     "name": "stdout",
     "output_type": "stream",
     "text": [
      "miyav\n"
     ]
    }
   ],
   "source": [
    "benimKedim.miyavla()"
   ]
  },
  {
   "cell_type": "markdown",
   "id": "d3e95aa3",
   "metadata": {},
   "source": [
    "## ploymorfizm"
   ]
  },
  {
   "cell_type": "code",
   "execution_count": 121,
   "id": "fa89fb2c",
   "metadata": {},
   "outputs": [],
   "source": [
    "class Elma():\n",
    "    def __init__(self,isim):\n",
    "        self.isim=isim\n",
    "    def bilgiVer(self):\n",
    "        return self.isim+\" : \" + \" 100 kaloridir\"  "
   ]
  },
  {
   "cell_type": "code",
   "execution_count": 122,
   "id": "e4756def",
   "metadata": {},
   "outputs": [],
   "source": [
    "class Muz():\n",
    "    def __init__(self,isim):\n",
    "        self.isim=isim\n",
    "    def bilgiVer(self):\n",
    "        return self.isim+\" : \" + \" 200 kaloridir\""
   ]
  },
  {
   "cell_type": "code",
   "execution_count": 123,
   "id": "d3dbfc95",
   "metadata": {},
   "outputs": [],
   "source": [
    "elma1=Elma(\"elma\")"
   ]
  },
  {
   "cell_type": "code",
   "execution_count": 124,
   "id": "fe52b688",
   "metadata": {},
   "outputs": [
    {
     "data": {
      "text/plain": [
       "'elma :  100 kaloridir'"
      ]
     },
     "execution_count": 124,
     "metadata": {},
     "output_type": "execute_result"
    }
   ],
   "source": [
    "elma1.bilgiVer()"
   ]
  },
  {
   "cell_type": "code",
   "execution_count": 125,
   "id": "1d208e9b",
   "metadata": {},
   "outputs": [],
   "source": [
    "muz1=Muz(\"muz\")"
   ]
  },
  {
   "cell_type": "code",
   "execution_count": 126,
   "id": "ed012467",
   "metadata": {},
   "outputs": [
    {
     "data": {
      "text/plain": [
       "'muz :  200 kaloridir'"
      ]
     },
     "execution_count": 126,
     "metadata": {},
     "output_type": "execute_result"
    }
   ],
   "source": [
    "muz1.bilgiVer()"
   ]
  },
  {
   "cell_type": "code",
   "execution_count": 127,
   "id": "fe7d42c9",
   "metadata": {},
   "outputs": [],
   "source": [
    "meyveListesi=[elma1,muz1]"
   ]
  },
  {
   "cell_type": "code",
   "execution_count": 128,
   "id": "65b106aa",
   "metadata": {},
   "outputs": [
    {
     "name": "stdout",
     "output_type": "stream",
     "text": [
      "elma :  100 kaloridir\n",
      "muz :  200 kaloridir\n"
     ]
    }
   ],
   "source": [
    "for meyve in meyveListesi:\n",
    "    print(meyve.bilgiVer())"
   ]
  },
  {
   "cell_type": "code",
   "execution_count": 107,
   "id": "b69effa9",
   "metadata": {},
   "outputs": [],
   "source": [
    "def bilgiAl(meyve):\n",
    "    print(meyve.bilgiVer())"
   ]
  },
  {
   "cell_type": "code",
   "execution_count": 108,
   "id": "e323de96",
   "metadata": {},
   "outputs": [
    {
     "name": "stdout",
     "output_type": "stream",
     "text": [
      "muz200 kaloridir\n"
     ]
    }
   ],
   "source": [
    "bilgiAl(muz)"
   ]
  },
  {
   "cell_type": "code",
   "execution_count": 109,
   "id": "cf61ecbc",
   "metadata": {},
   "outputs": [
    {
     "name": "stdout",
     "output_type": "stream",
     "text": [
      "elma100 kaloridir\n"
     ]
    }
   ],
   "source": [
    "bilgiAl(elma)"
   ]
  },
  {
   "cell_type": "code",
   "execution_count": null,
   "id": "96b419e7",
   "metadata": {},
   "outputs": [],
   "source": []
  }
 ],
 "metadata": {
  "kernelspec": {
   "display_name": "Python 3 (ipykernel)",
   "language": "python",
   "name": "python3"
  },
  "language_info": {
   "codemirror_mode": {
    "name": "ipython",
    "version": 3
   },
   "file_extension": ".py",
   "mimetype": "text/x-python",
   "name": "python",
   "nbconvert_exporter": "python",
   "pygments_lexer": "ipython3",
   "version": "3.9.7"
  }
 },
 "nbformat": 4,
 "nbformat_minor": 5
}
