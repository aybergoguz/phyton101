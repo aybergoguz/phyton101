{
 "cells": [
  {
   "cell_type": "code",
   "execution_count": 3,
   "id": "71a762d4",
   "metadata": {},
   "outputs": [
    {
     "name": "stdout",
     "output_type": "stream",
     "text": [
      "if kosulunun dışına çıktık\n"
     ]
    }
   ],
   "source": [
    "if 3>5:\n",
    "    print(\"ayberg\")\n",
    "    print(\"if koşulu sağlandı\")\n",
    "print(\"if kosulunun dışına çıktık\")"
   ]
  },
  {
   "cell_type": "code",
   "execution_count": 4,
   "id": "e7277c57",
   "metadata": {},
   "outputs": [],
   "source": [
    "x=5\n",
    "y=4"
   ]
  },
  {
   "cell_type": "code",
   "execution_count": 5,
   "id": "0e840e22",
   "metadata": {},
   "outputs": [
    {
     "name": "stdout",
     "output_type": "stream",
     "text": [
      "x y den büyüktür\n"
     ]
    }
   ],
   "source": [
    "if x>y:\n",
    "    print (\"x y den büyüktür\")\n",
    "elif x==y:\n",
    "    print(\"x y ye esittir\")\n",
    "else : \n",
    "    print(\"y x den büyüktür\")"
   ]
  },
  {
   "cell_type": "code",
   "execution_count": 6,
   "id": "e8f1f87f",
   "metadata": {},
   "outputs": [
    {
     "name": "stdout",
     "output_type": "stream",
     "text": [
      "süper kahraman seçiniz: dsf\n",
      "bu kim ya\n"
     ]
    }
   ],
   "source": [
    "benimKahramanim =input(\"süper kahraman seçiniz: \")\n",
    "if benimKahramanim==\"batman\":\n",
    "    print(\"harikasın\")\n",
    "elif benimKahramanim==\"superman\":\n",
    "    print(\"bi git ya\")\n",
    "else:\n",
    "    print(\"bu kim ya\")"
   ]
  },
  {
   "cell_type": "code",
   "execution_count": 7,
   "id": "70ec3d46",
   "metadata": {},
   "outputs": [
    {
     "name": "stdout",
     "output_type": "stream",
     "text": [
      "yok\n"
     ]
    }
   ],
   "source": [
    "benimS=\"halim\"\n",
    "if \"ay\" in benimS:\n",
    "    print(\"ok\")\n",
    "else:\n",
    "    print(\"yok\")"
   ]
  },
  {
   "cell_type": "code",
   "execution_count": 8,
   "id": "1a4fe5f4",
   "metadata": {},
   "outputs": [],
   "source": [
    "benimSozluk={\"muz\":100,\"elma\":200,\"armut\":300}"
   ]
  },
  {
   "cell_type": "code",
   "execution_count": 9,
   "id": "05b7e74e",
   "metadata": {},
   "outputs": [
    {
     "name": "stdout",
     "output_type": "stream",
     "text": [
      "var\n"
     ]
    }
   ],
   "source": [
    "if \"muz\" in benimSozluk.keys():\n",
    "    print (\"var\")\n",
    "else:\n",
    "    print(\"yok\")"
   ]
  },
  {
   "cell_type": "code",
   "execution_count": 10,
   "id": "a6098db3",
   "metadata": {},
   "outputs": [
    {
     "name": "stdout",
     "output_type": "stream",
     "text": [
      "var\n"
     ]
    }
   ],
   "source": [
    "if 300 in benimSozluk.values():\n",
    "    print(\"var\")\n",
    "else: \n",
    "    print(\"yok\")"
   ]
  },
  {
   "cell_type": "code",
   "execution_count": 11,
   "id": "c8da9042",
   "metadata": {},
   "outputs": [
    {
     "name": "stdout",
     "output_type": "stream",
     "text": [
      "d başladı.\n",
      "20\n",
      "d devam etti\n",
      "40\n",
      "d devam etti\n",
      "60\n",
      "d devam etti\n",
      "80\n",
      "d devam etti\n",
      "100\n",
      "d devam etti\n",
      "d bitti\n"
     ]
    }
   ],
   "source": [
    "benimListem=[10,20,30,40,50]\n",
    "print(\"d başladı.\")\n",
    "for numara in benimListem:\n",
    "    print(numara*2)\n",
    "    print(\"d devam etti\")\n",
    "print(\"d bitti\")"
   ]
  },
  {
   "cell_type": "code",
   "execution_count": 12,
   "id": "d4d54f75",
   "metadata": {},
   "outputs": [
    {
     "name": "stdout",
     "output_type": "stream",
     "text": [
      "1\n",
      "AAAA\n",
      "2\n",
      "3\n",
      "AAAA\n",
      "4\n",
      "5\n",
      "AAAA\n",
      "6\n"
     ]
    }
   ],
   "source": [
    "yeniLliste=[1,2,3,4,5,6]\n",
    "for rakam in yeniLliste:\n",
    "    if rakam % 2==0:\n",
    "        print(\"AAAA\")\n",
    "    print(rakam)"
   ]
  },
  {
   "cell_type": "code",
   "execution_count": 13,
   "id": "f14070f6",
   "metadata": {},
   "outputs": [
    {
     "name": "stdout",
     "output_type": "stream",
     "text": [
      "H\n",
      "a\n",
      "l\n",
      "i\n",
      "m\n",
      " \n",
      "A\n",
      "y\n",
      "b\n",
      "e\n",
      "r\n",
      "g\n",
      " \n",
      "O\n",
      "ğ\n",
      "u\n",
      "z\n"
     ]
    }
   ],
   "source": [
    "yeniString=\"Halim Ayberg Oğuz\"\n",
    "for harf in yeniString:\n",
    "    print(harf)"
   ]
  },
  {
   "cell_type": "raw",
   "id": "2ed367bf",
   "metadata": {},
   "source": [
    "benimTuple=(1,2,3,4,5)\n",
    "for eleman in benimTuple:\n",
    "    print(eleman)"
   ]
  },
  {
   "cell_type": "code",
   "execution_count": 14,
   "id": "d1b92483",
   "metadata": {},
   "outputs": [
    {
     "name": "stdout",
     "output_type": "stream",
     "text": [
      "10.2\n",
      "23.4\n",
      "22.4\n",
      "33.2\n",
      "41.3\n",
      "54.6\n"
     ]
    }
   ],
   "source": [
    "kordinatListesi=[(10.2,23.4),(22.4,33.2),(41.3,54.6)]\n",
    "type(kordinatListesi)\n",
    "type(kordinatListesi[0])\n",
    "for (x,y) in kordinatListesi:\n",
    "    print(x)\n",
    "    print(y)"
   ]
  },
  {
   "cell_type": "code",
   "execution_count": 15,
   "id": "f72bf93e",
   "metadata": {},
   "outputs": [
    {
     "data": {
      "text/plain": [
       "dict_items([('muz', 100), ('elma', 200), ('armut', 300)])"
      ]
     },
     "execution_count": 15,
     "metadata": {},
     "output_type": "execute_result"
    }
   ],
   "source": [
    "benimSozluk={\"muz\":100,\"elma\":200,\"armut\":300}\n",
    "benimSozluk.items()"
   ]
  },
  {
   "cell_type": "code",
   "execution_count": 16,
   "id": "2caf8337",
   "metadata": {},
   "outputs": [
    {
     "name": "stdout",
     "output_type": "stream",
     "text": [
      "muz\n",
      "100\n",
      "elma\n",
      "200\n",
      "armut\n",
      "300\n"
     ]
    }
   ],
   "source": [
    "for (anahtar,deger) in benimSozluk.items():\n",
    "    print(anahtar)\n",
    "    print(deger)"
   ]
  },
  {
   "cell_type": "code",
   "execution_count": 17,
   "id": "21178098",
   "metadata": {},
   "outputs": [],
   "source": [
    "##continue-break-pass"
   ]
  },
  {
   "cell_type": "code",
   "execution_count": 18,
   "id": "760841b7",
   "metadata": {},
   "outputs": [
    {
     "name": "stdout",
     "output_type": "stream",
     "text": [
      "5\n",
      "10\n"
     ]
    }
   ],
   "source": [
    "sayList=[5,10,15,20,25,30]\n",
    "for numara in sayList:\n",
    "    if numara==15:\n",
    "        break\n",
    "    print(numara)"
   ]
  },
  {
   "cell_type": "code",
   "execution_count": 19,
   "id": "037f0ac7",
   "metadata": {},
   "outputs": [
    {
     "name": "stdout",
     "output_type": "stream",
     "text": [
      "5\n",
      "10\n",
      "20\n",
      "25\n",
      "30\n"
     ]
    }
   ],
   "source": [
    "sayList=[5,10,15,20,25,30]\n",
    "for numara in sayList:\n",
    "    if numara==15:\n",
    "        continue\n",
    "    print(numara)"
   ]
  },
  {
   "cell_type": "code",
   "execution_count": 24,
   "id": "a724a7db",
   "metadata": {},
   "outputs": [],
   "source": [
    "sayList=[5,10,15,20,25,30]\n",
    "for numara in sayList:\n",
    "    pass"
   ]
  },
  {
   "cell_type": "code",
   "execution_count": 23,
   "id": "3bbbffcb",
   "metadata": {},
   "outputs": [
    {
     "name": "stdout",
     "output_type": "stream",
     "text": [
      "0\n",
      "1\n",
      "2\n",
      "3\n",
      "4\n",
      "5\n",
      "6\n",
      "7\n",
      "8\n",
      "9\n"
     ]
    }
   ],
   "source": [
    "x=0\n",
    "while x<10:\n",
    "    print(x)\n",
    "    x=x+1"
   ]
  },
  {
   "cell_type": "code",
   "execution_count": 4,
   "id": "8f176bc7",
   "metadata": {},
   "outputs": [
    {
     "name": "stdout",
     "output_type": "stream",
     "text": [
      "ewew\n",
      "ewew\n",
      "ewew\n"
     ]
    }
   ],
   "source": [
    "benimListem=[1,2,3,4,5]\n",
    "while 3 in benimListem:\n",
    "    print(\"ewew\")\n",
    "    benimListem.pop()  ## 5i atacak 4ü atacak 3 atacak  yani 3 defa çalışacak"
   ]
  },
  {
   "cell_type": "code",
   "execution_count": 7,
   "id": "1130120a",
   "metadata": {},
   "outputs": [
    {
     "name": "stdout",
     "output_type": "stream",
     "text": [
      "Numaranın Yeni değeri: 0\n",
      "Numaranın Yeni değeri: 1\n",
      "Numaranın Yeni değeri: 2\n",
      "Numaranın Yeni değeri: 3\n"
     ]
    }
   ],
   "source": [
    "numara=0\n",
    "while numara<5:\n",
    "    if numara==4:\n",
    "        break\n",
    "    print(f\"Numaranın Yeni değeri: {numara}\")\n",
    "    #print(\"Numaranın Yeni Değeri: \" +str(numara))\n",
    "    numara=numara+1"
   ]
  },
  {
   "cell_type": "code",
   "execution_count": null,
   "id": "f2cd5a9e",
   "metadata": {},
   "outputs": [],
   "source": []
  }
 ],
 "metadata": {
  "kernelspec": {
   "display_name": "Python 3 (ipykernel)",
   "language": "python",
   "name": "python3"
  },
  "language_info": {
   "codemirror_mode": {
    "name": "ipython",
    "version": 3
   },
   "file_extension": ".py",
   "mimetype": "text/x-python",
   "name": "python",
   "nbconvert_exporter": "python",
   "pygments_lexer": "ipython3",
   "version": "3.9.7"
  }
 },
 "nbformat": 4,
 "nbformat_minor": 5
}
