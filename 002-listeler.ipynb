{
 "cells": [
  {
   "cell_type": "code",
   "execution_count": 5,
   "id": "c0c19745",
   "metadata": {},
   "outputs": [],
   "source": [
    "benimString = \"Halim Ayberg Oğuz\""
   ]
  },
  {
   "cell_type": "code",
   "execution_count": 6,
   "id": "9614a157",
   "metadata": {},
   "outputs": [
    {
     "data": {
      "text/plain": [
       "'H'"
      ]
     },
     "execution_count": 6,
     "metadata": {},
     "output_type": "execute_result"
    }
   ],
   "source": [
    "benimString[0]"
   ]
  },
  {
   "cell_type": "code",
   "execution_count": 7,
   "id": "f4d3b7b3",
   "metadata": {},
   "outputs": [
    {
     "ename": "NameError",
     "evalue": "name 'q' is not defined",
     "output_type": "error",
     "traceback": [
      "\u001b[0;31m---------------------------------------------------------------------------\u001b[0m",
      "\u001b[0;31mNameError\u001b[0m                                 Traceback (most recent call last)",
      "\u001b[0;32m/var/folders/zp/m62c6py54hg475869ms5bt8h0000gn/T/ipykernel_67284/3006822659.py\u001b[0m in \u001b[0;36m<module>\u001b[0;34m\u001b[0m\n\u001b[0;32m----> 1\u001b[0;31m \u001b[0mbenimString\u001b[0m\u001b[0;34m[\u001b[0m\u001b[0;36m0\u001b[0m\u001b[0;34m]\u001b[0m\u001b[0;34m=\u001b[0m\u001b[0mq\u001b[0m\u001b[0;34m\u001b[0m\u001b[0;34m\u001b[0m\u001b[0m\n\u001b[0m",
      "\u001b[0;31mNameError\u001b[0m: name 'q' is not defined"
     ]
    }
   ],
   "source": [
    "benimString[0]=q"
   ]
  },
  {
   "cell_type": "code",
   "execution_count": 8,
   "id": "d8491790",
   "metadata": {},
   "outputs": [],
   "source": [
    "benimListem=[11,22,33,44]"
   ]
  },
  {
   "cell_type": "code",
   "execution_count": 9,
   "id": "1a713eef",
   "metadata": {},
   "outputs": [
    {
     "data": {
      "text/plain": [
       "list"
      ]
     },
     "execution_count": 9,
     "metadata": {},
     "output_type": "execute_result"
    }
   ],
   "source": [
    "list"
   ]
  },
  {
   "cell_type": "code",
   "execution_count": 10,
   "id": "52cf1710",
   "metadata": {},
   "outputs": [
    {
     "data": {
      "text/plain": [
       "[11, 22, 33, 44]"
      ]
     },
     "execution_count": 10,
     "metadata": {},
     "output_type": "execute_result"
    }
   ],
   "source": [
    "benimListem"
   ]
  },
  {
   "cell_type": "code",
   "execution_count": 12,
   "id": "abef285a",
   "metadata": {},
   "outputs": [],
   "source": [
    "benimListem[0]=111"
   ]
  },
  {
   "cell_type": "code",
   "execution_count": 13,
   "id": "6ade031f",
   "metadata": {},
   "outputs": [
    {
     "data": {
      "text/plain": [
       "[111, 22, 33, 44]"
      ]
     },
     "execution_count": 13,
     "metadata": {},
     "output_type": "execute_result"
    }
   ],
   "source": [
    "benimListem"
   ]
  },
  {
   "cell_type": "code",
   "execution_count": 14,
   "id": "46b10e5a",
   "metadata": {},
   "outputs": [],
   "source": [
    "benimListem.append(50)"
   ]
  },
  {
   "cell_type": "code",
   "execution_count": 15,
   "id": "52d80067",
   "metadata": {},
   "outputs": [
    {
     "data": {
      "text/plain": [
       "[111, 22, 33, 44, 50]"
      ]
     },
     "execution_count": 15,
     "metadata": {},
     "output_type": "execute_result"
    }
   ],
   "source": [
    "benimListem"
   ]
  },
  {
   "cell_type": "code",
   "execution_count": 16,
   "id": "a41462e3",
   "metadata": {},
   "outputs": [
    {
     "data": {
      "text/plain": [
       "50"
      ]
     },
     "execution_count": 16,
     "metadata": {},
     "output_type": "execute_result"
    }
   ],
   "source": [
    "benimListem.pop()"
   ]
  },
  {
   "cell_type": "code",
   "execution_count": 17,
   "id": "a48c0da9",
   "metadata": {},
   "outputs": [
    {
     "data": {
      "text/plain": [
       "[111, 22, 33, 44]"
      ]
     },
     "execution_count": 17,
     "metadata": {},
     "output_type": "execute_result"
    }
   ],
   "source": [
    "benimListem"
   ]
  },
  {
   "cell_type": "code",
   "execution_count": 18,
   "id": "3a8f13fd",
   "metadata": {},
   "outputs": [],
   "source": [
    "benimListem.reverse()"
   ]
  },
  {
   "cell_type": "code",
   "execution_count": 19,
   "id": "4cc4cdc1",
   "metadata": {},
   "outputs": [
    {
     "data": {
      "text/plain": [
       "[44, 33, 22, 111]"
      ]
     },
     "execution_count": 19,
     "metadata": {},
     "output_type": "execute_result"
    }
   ],
   "source": [
    "benimListem"
   ]
  },
  {
   "cell_type": "code",
   "execution_count": 22,
   "id": "fd6baddc",
   "metadata": {},
   "outputs": [],
   "source": [
    "benimListem.remove(44)"
   ]
  },
  {
   "cell_type": "code",
   "execution_count": 23,
   "id": "94990afd",
   "metadata": {},
   "outputs": [
    {
     "data": {
      "text/plain": [
       "[33, 22, 111]"
      ]
     },
     "execution_count": 23,
     "metadata": {},
     "output_type": "execute_result"
    }
   ],
   "source": [
    "benimListem"
   ]
  },
  {
   "cell_type": "code",
   "execution_count": 24,
   "id": "6cf5baf3",
   "metadata": {},
   "outputs": [],
   "source": [
    "benimListem.append(33)"
   ]
  },
  {
   "cell_type": "code",
   "execution_count": 26,
   "id": "ac492e23",
   "metadata": {},
   "outputs": [
    {
     "data": {
      "text/plain": [
       "2"
      ]
     },
     "execution_count": 26,
     "metadata": {},
     "output_type": "execute_result"
    }
   ],
   "source": [
    "benimListem.count(33)"
   ]
  },
  {
   "cell_type": "code",
   "execution_count": 29,
   "id": "ba274cd8",
   "metadata": {},
   "outputs": [
    {
     "data": {
      "text/plain": [
       "0"
      ]
     },
     "execution_count": 29,
     "metadata": {},
     "output_type": "execute_result"
    }
   ],
   "source": [
    "benimListem.index(33)"
   ]
  },
  {
   "cell_type": "raw",
   "id": "c5149ac5",
   "metadata": {},
   "source": []
  },
  {
   "cell_type": "code",
   "execution_count": 31,
   "id": "117a1bf3",
   "metadata": {},
   "outputs": [],
   "source": [
    "digerListe=[\"ali\",\"veli\",\"nur\"]"
   ]
  },
  {
   "cell_type": "code",
   "execution_count": 32,
   "id": "ba7a6374",
   "metadata": {},
   "outputs": [
    {
     "data": {
      "text/plain": [
       "'veli'"
      ]
     },
     "execution_count": 32,
     "metadata": {},
     "output_type": "execute_result"
    }
   ],
   "source": [
    "digerListe[1]"
   ]
  },
  {
   "cell_type": "code",
   "execution_count": 33,
   "id": "431d1321",
   "metadata": {},
   "outputs": [],
   "source": [
    "digerliste2=[\"ayşe\",\"fatma\",\"aylin\"]"
   ]
  },
  {
   "cell_type": "code",
   "execution_count": 34,
   "id": "3e0d5872",
   "metadata": {},
   "outputs": [],
   "source": [
    "toplamaListe=digerListe+digerliste2"
   ]
  },
  {
   "cell_type": "code",
   "execution_count": 35,
   "id": "26d4466d",
   "metadata": {},
   "outputs": [
    {
     "data": {
      "text/plain": [
       "['ali', 'veli', 'nur', 'ayşe', 'fatma', 'aylin']"
      ]
     },
     "execution_count": 35,
     "metadata": {},
     "output_type": "execute_result"
    }
   ],
   "source": [
    "toplamaListe"
   ]
  },
  {
   "cell_type": "code",
   "execution_count": 36,
   "id": "bed9855f",
   "metadata": {},
   "outputs": [],
   "source": [
    "topList=toplamaListe*5"
   ]
  },
  {
   "cell_type": "code",
   "execution_count": 37,
   "id": "af0b12c8",
   "metadata": {},
   "outputs": [
    {
     "data": {
      "text/plain": [
       "['ali',\n",
       " 'veli',\n",
       " 'nur',\n",
       " 'ayşe',\n",
       " 'fatma',\n",
       " 'aylin',\n",
       " 'ali',\n",
       " 'veli',\n",
       " 'nur',\n",
       " 'ayşe',\n",
       " 'fatma',\n",
       " 'aylin',\n",
       " 'ali',\n",
       " 'veli',\n",
       " 'nur',\n",
       " 'ayşe',\n",
       " 'fatma',\n",
       " 'aylin',\n",
       " 'ali',\n",
       " 'veli',\n",
       " 'nur',\n",
       " 'ayşe',\n",
       " 'fatma',\n",
       " 'aylin',\n",
       " 'ali',\n",
       " 'veli',\n",
       " 'nur',\n",
       " 'ayşe',\n",
       " 'fatma',\n",
       " 'aylin']"
      ]
     },
     "execution_count": 37,
     "metadata": {},
     "output_type": "execute_result"
    }
   ],
   "source": [
    "topList"
   ]
  },
  {
   "cell_type": "code",
   "execution_count": 38,
   "id": "f689b667",
   "metadata": {},
   "outputs": [],
   "source": [
    "toplamaListe.reverse()"
   ]
  },
  {
   "cell_type": "code",
   "execution_count": 39,
   "id": "fc44c8f0",
   "metadata": {},
   "outputs": [
    {
     "data": {
      "text/plain": [
       "['aylin', 'fatma', 'ayşe', 'nur', 'veli', 'ali']"
      ]
     },
     "execution_count": 39,
     "metadata": {},
     "output_type": "execute_result"
    }
   ],
   "source": [
    "toplamaListe"
   ]
  },
  {
   "cell_type": "code",
   "execution_count": 40,
   "id": "89998f72",
   "metadata": {},
   "outputs": [],
   "source": [
    "toplamaListe.sort()"
   ]
  },
  {
   "cell_type": "code",
   "execution_count": 41,
   "id": "4946776d",
   "metadata": {},
   "outputs": [
    {
     "data": {
      "text/plain": [
       "['ali', 'aylin', 'ayşe', 'fatma', 'nur', 'veli']"
      ]
     },
     "execution_count": 41,
     "metadata": {},
     "output_type": "execute_result"
    }
   ],
   "source": [
    "toplamaListe"
   ]
  },
  {
   "cell_type": "code",
   "execution_count": 42,
   "id": "327c21e8",
   "metadata": {},
   "outputs": [],
   "source": [
    "karisikListe=[1,2,3,4,3.5,\"atıl\",9]"
   ]
  },
  {
   "cell_type": "code",
   "execution_count": 49,
   "id": "1f5d5879",
   "metadata": {},
   "outputs": [],
   "source": [
    "sonuc=karisikListe[5]"
   ]
  },
  {
   "cell_type": "code",
   "execution_count": 50,
   "id": "767ea6bb",
   "metadata": {},
   "outputs": [
    {
     "data": {
      "text/plain": [
       "str"
      ]
     },
     "execution_count": 50,
     "metadata": {},
     "output_type": "execute_result"
    }
   ],
   "source": [
    "type(sonuc)"
   ]
  },
  {
   "cell_type": "code",
   "execution_count": 54,
   "id": "72089ccf",
   "metadata": {},
   "outputs": [],
   "source": [
    "sonuc3=karisikListe[3]"
   ]
  },
  {
   "cell_type": "code",
   "execution_count": 52,
   "id": "706ad846",
   "metadata": {},
   "outputs": [],
   "source": [
    "sonuc2=karisikListe[4]"
   ]
  },
  {
   "cell_type": "code",
   "execution_count": 61,
   "id": "a452e433",
   "metadata": {},
   "outputs": [
    {
     "data": {
      "text/plain": [
       "str"
      ]
     },
     "execution_count": 61,
     "metadata": {},
     "output_type": "execute_result"
    }
   ],
   "source": [
    "type(sonuc)"
   ]
  },
  {
   "cell_type": "code",
   "execution_count": 63,
   "id": "731e82f8",
   "metadata": {},
   "outputs": [],
   "source": [
    "nestedList=[1,5,\"ayberg\",4,[6,\"z\"]]"
   ]
  },
  {
   "cell_type": "code",
   "execution_count": 64,
   "id": "aca7d9ec",
   "metadata": {},
   "outputs": [
    {
     "data": {
      "text/plain": [
       "1"
      ]
     },
     "execution_count": 64,
     "metadata": {},
     "output_type": "execute_result"
    }
   ],
   "source": [
    "nestedList[0]"
   ]
  },
  {
   "cell_type": "code",
   "execution_count": 65,
   "id": "05092b84",
   "metadata": {},
   "outputs": [
    {
     "data": {
      "text/plain": [
       "5"
      ]
     },
     "execution_count": 65,
     "metadata": {},
     "output_type": "execute_result"
    }
   ],
   "source": [
    "nestedList[1]"
   ]
  },
  {
   "cell_type": "code",
   "execution_count": 66,
   "id": "a3238ba4",
   "metadata": {},
   "outputs": [
    {
     "data": {
      "text/plain": [
       "'ayberg'"
      ]
     },
     "execution_count": 66,
     "metadata": {},
     "output_type": "execute_result"
    }
   ],
   "source": [
    "nestedList[2]"
   ]
  },
  {
   "cell_type": "code",
   "execution_count": 67,
   "id": "d2800168",
   "metadata": {},
   "outputs": [
    {
     "data": {
      "text/plain": [
       "4"
      ]
     },
     "execution_count": 67,
     "metadata": {},
     "output_type": "execute_result"
    }
   ],
   "source": [
    "nestedList[3]"
   ]
  },
  {
   "cell_type": "code",
   "execution_count": 75,
   "id": "3e43e8f6",
   "metadata": {},
   "outputs": [
    {
     "data": {
      "text/plain": [
       "[6, 'z']"
      ]
     },
     "execution_count": 75,
     "metadata": {},
     "output_type": "execute_result"
    }
   ],
   "source": [
    "nestedList[4]"
   ]
  },
  {
   "cell_type": "code",
   "execution_count": 76,
   "id": "02efc9c6",
   "metadata": {},
   "outputs": [
    {
     "data": {
      "text/plain": [
       "'z'"
      ]
     },
     "execution_count": 76,
     "metadata": {},
     "output_type": "execute_result"
    }
   ],
   "source": [
    "nestedList[4][1]"
   ]
  },
  {
   "cell_type": "code",
   "execution_count": 85,
   "id": "c8c7ec75",
   "metadata": {},
   "outputs": [],
   "source": [
    "veryNestedListe=[1,2,[\"a\",\"b\",[\"x\",\"y\",\"z\"]],3.3,4.4]"
   ]
  },
  {
   "cell_type": "code",
   "execution_count": 86,
   "id": "3ad62d56",
   "metadata": {},
   "outputs": [
    {
     "data": {
      "text/plain": [
       "'z'"
      ]
     },
     "execution_count": 86,
     "metadata": {},
     "output_type": "execute_result"
    }
   ],
   "source": [
    "veryNestedListe[2][2][2]"
   ]
  },
  {
   "cell_type": "code",
   "execution_count": 87,
   "id": "3e80f840",
   "metadata": {},
   "outputs": [
    {
     "data": {
      "text/plain": [
       "['a', 'b', ['x', 'y', 'z']]"
      ]
     },
     "execution_count": 87,
     "metadata": {},
     "output_type": "execute_result"
    }
   ],
   "source": [
    "veryNestedListe[2]"
   ]
  },
  {
   "cell_type": "code",
   "execution_count": 88,
   "id": "19568df8",
   "metadata": {},
   "outputs": [
    {
     "data": {
      "text/plain": [
       "[1, 5, 'ayberg', 4, [6, 'z']]"
      ]
     },
     "execution_count": 88,
     "metadata": {},
     "output_type": "execute_result"
    }
   ],
   "source": [
    "nestedList"
   ]
  },
  {
   "cell_type": "code",
   "execution_count": 89,
   "id": "416b19ac",
   "metadata": {},
   "outputs": [
    {
     "data": {
      "text/plain": [
       "['ayberg', 4, [6, 'z']]"
      ]
     },
     "execution_count": 89,
     "metadata": {},
     "output_type": "execute_result"
    }
   ],
   "source": [
    "nestedList[2:]"
   ]
  },
  {
   "cell_type": "code",
   "execution_count": 90,
   "id": "476f31e7",
   "metadata": {},
   "outputs": [
    {
     "data": {
      "text/plain": [
       "[1, 5]"
      ]
     },
     "execution_count": 90,
     "metadata": {},
     "output_type": "execute_result"
    }
   ],
   "source": [
    "nestedList[:2]"
   ]
  },
  {
   "cell_type": "code",
   "execution_count": 91,
   "id": "e43ebf5a",
   "metadata": {},
   "outputs": [
    {
     "data": {
      "text/plain": [
       "5"
      ]
     },
     "execution_count": 91,
     "metadata": {},
     "output_type": "execute_result"
    }
   ],
   "source": [
    "nestedList[:-1][1]"
   ]
  },
  {
   "cell_type": "code",
   "execution_count": null,
   "id": "ac95a5ef",
   "metadata": {},
   "outputs": [],
   "source": []
  }
 ],
 "metadata": {
  "kernelspec": {
   "display_name": "Python 3 (ipykernel)",
   "language": "python",
   "name": "python3"
  },
  "language_info": {
   "codemirror_mode": {
    "name": "ipython",
    "version": 3
   },
   "file_extension": ".py",
   "mimetype": "text/x-python",
   "name": "python",
   "nbconvert_exporter": "python",
   "pygments_lexer": "ipython3",
   "version": "3.9.7"
  }
 },
 "nbformat": 4,
 "nbformat_minor": 5
}
