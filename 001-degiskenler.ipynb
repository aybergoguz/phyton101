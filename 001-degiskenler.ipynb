{
 "cells": [
  {
   "cell_type": "code",
   "execution_count": 8,
   "id": "741619d4",
   "metadata": {},
   "outputs": [
    {
     "data": {
      "text/plain": [
       "15"
      ]
     },
     "execution_count": 8,
     "metadata": {},
     "output_type": "execute_result"
    }
   ],
   "source": [
    "5*3"
   ]
  },
  {
   "cell_type": "code",
   "execution_count": 7,
   "id": "2cd617bc",
   "metadata": {},
   "outputs": [
    {
     "name": "stdout",
     "output_type": "stream",
     "text": [
      "25\n"
     ]
    }
   ],
   "source": [
    "print(5*5)\n"
   ]
  },
  {
   "cell_type": "markdown",
   "id": "feca3405",
   "metadata": {},
   "source": [
    "not alma \"code yerinemarkdown seçiyoruz\""
   ]
  },
  {
   "cell_type": "markdown",
   "id": "7272231f",
   "metadata": {},
   "source": [
    "## yorum satırı\n"
   ]
  },
  {
   "cell_type": "code",
   "execution_count": 18,
   "id": "40e65f7f",
   "metadata": {},
   "outputs": [],
   "source": [
    "x=5"
   ]
  },
  {
   "cell_type": "code",
   "execution_count": 19,
   "id": "cb3c85fa",
   "metadata": {},
   "outputs": [],
   "source": [
    "y=4"
   ]
  },
  {
   "cell_type": "code",
   "execution_count": 20,
   "id": "e229a402",
   "metadata": {},
   "outputs": [
    {
     "data": {
      "text/plain": [
       "20"
      ]
     },
     "execution_count": 20,
     "metadata": {},
     "output_type": "execute_result"
    }
   ],
   "source": [
    "x*y"
   ]
  },
  {
   "cell_type": "code",
   "execution_count": 14,
   "id": "71455251",
   "metadata": {},
   "outputs": [
    {
     "data": {
      "text/plain": [
       "5"
      ]
     },
     "execution_count": 14,
     "metadata": {},
     "output_type": "execute_result"
    }
   ],
   "source": [
    "x"
   ]
  },
  {
   "cell_type": "code",
   "execution_count": null,
   "id": "20172ff2",
   "metadata": {},
   "outputs": [],
   "source": []
  },
  {
   "cell_type": "code",
   "execution_count": 15,
   "id": "16aca34f",
   "metadata": {},
   "outputs": [],
   "source": [
    "x=6"
   ]
  },
  {
   "cell_type": "code",
   "execution_count": 16,
   "id": "914c29b3",
   "metadata": {},
   "outputs": [
    {
     "data": {
      "text/plain": [
       "24"
      ]
     },
     "execution_count": 16,
     "metadata": {},
     "output_type": "execute_result"
    }
   ],
   "source": [
    "x*y"
   ]
  },
  {
   "cell_type": "code",
   "execution_count": 21,
   "id": "9317203a",
   "metadata": {},
   "outputs": [],
   "source": [
    "benimDegiskenim=10"
   ]
  },
  {
   "cell_type": "code",
   "execution_count": 22,
   "id": "8508a1d8",
   "metadata": {},
   "outputs": [],
   "source": [
    "benimDigerDegiskenim=15"
   ]
  },
  {
   "cell_type": "code",
   "execution_count": 26,
   "id": "ce3fe7fa",
   "metadata": {},
   "outputs": [],
   "source": [
    "sonuc=benimDegiskenim*benimDigerDegiskenim"
   ]
  },
  {
   "cell_type": "code",
   "execution_count": 24,
   "id": "4a1bf68d",
   "metadata": {},
   "outputs": [
    {
     "data": {
      "text/plain": [
       "int"
      ]
     },
     "execution_count": 24,
     "metadata": {},
     "output_type": "execute_result"
    }
   ],
   "source": [
    "type(benimDegiskenim)"
   ]
  },
  {
   "cell_type": "code",
   "execution_count": 25,
   "id": "e35b6101",
   "metadata": {},
   "outputs": [
    {
     "data": {
      "text/plain": [
       "<function int.bit_length()>"
      ]
     },
     "execution_count": 25,
     "metadata": {},
     "output_type": "execute_result"
    }
   ],
   "source": [
    "benimDegiskenim.bit_length"
   ]
  },
  {
   "cell_type": "code",
   "execution_count": 27,
   "id": "5d1d3e35",
   "metadata": {},
   "outputs": [
    {
     "data": {
      "text/plain": [
       "150"
      ]
     },
     "execution_count": 27,
     "metadata": {},
     "output_type": "execute_result"
    }
   ],
   "source": [
    "sonuc"
   ]
  },
  {
   "cell_type": "code",
   "execution_count": 28,
   "id": "da22206d",
   "metadata": {},
   "outputs": [
    {
     "data": {
      "text/plain": [
       "6"
      ]
     },
     "execution_count": 28,
     "metadata": {},
     "output_type": "execute_result"
    }
   ],
   "source": [
    "x^3"
   ]
  },
  {
   "cell_type": "code",
   "execution_count": 29,
   "id": "c44e7f5b",
   "metadata": {},
   "outputs": [],
   "source": [
    "x=5"
   ]
  },
  {
   "cell_type": "code",
   "execution_count": 30,
   "id": "a71fc527",
   "metadata": {},
   "outputs": [
    {
     "data": {
      "text/plain": [
       "6"
      ]
     },
     "execution_count": 30,
     "metadata": {},
     "output_type": "execute_result"
    }
   ],
   "source": [
    "x^3"
   ]
  },
  {
   "cell_type": "code",
   "execution_count": 31,
   "id": "f3df5c3f",
   "metadata": {},
   "outputs": [
    {
     "data": {
      "text/plain": [
       "625"
      ]
     },
     "execution_count": 31,
     "metadata": {},
     "output_type": "execute_result"
    }
   ],
   "source": [
    "x**4"
   ]
  },
  {
   "cell_type": "code",
   "execution_count": 32,
   "id": "9b9eea80",
   "metadata": {},
   "outputs": [
    {
     "data": {
      "text/plain": [
       "2"
      ]
     },
     "execution_count": 32,
     "metadata": {},
     "output_type": "execute_result"
    }
   ],
   "source": [
    "11%3"
   ]
  },
  {
   "cell_type": "code",
   "execution_count": 33,
   "id": "84ebf043",
   "metadata": {},
   "outputs": [],
   "source": [
    "kullanciYasi=19"
   ]
  },
  {
   "cell_type": "code",
   "execution_count": 36,
   "id": "d0310cd5",
   "metadata": {},
   "outputs": [
    {
     "name": "stdout",
     "output_type": "stream",
     "text": [
      "yasinizi giriniz : 40\n"
     ]
    }
   ],
   "source": [
    "kullaniciYasi=input(\"yasinizi giriniz : \")"
   ]
  },
  {
   "cell_type": "code",
   "execution_count": 37,
   "id": "e6576cab",
   "metadata": {},
   "outputs": [
    {
     "data": {
      "text/plain": [
       "'40'"
      ]
     },
     "execution_count": 37,
     "metadata": {},
     "output_type": "execute_result"
    }
   ],
   "source": [
    "kullaniciYasi"
   ]
  },
  {
   "cell_type": "code",
   "execution_count": 38,
   "id": "a2bf6c23",
   "metadata": {},
   "outputs": [
    {
     "data": {
      "text/plain": [
       "'404040'"
      ]
     },
     "execution_count": 38,
     "metadata": {},
     "output_type": "execute_result"
    }
   ],
   "source": [
    "kullaniciYasi*3"
   ]
  },
  {
   "cell_type": "code",
   "execution_count": 39,
   "id": "b9f68fb9",
   "metadata": {},
   "outputs": [
    {
     "data": {
      "text/plain": [
       "'merhaba dünya'"
      ]
     },
     "execution_count": 39,
     "metadata": {},
     "output_type": "execute_result"
    }
   ],
   "source": [
    "\"merhaba dünya\""
   ]
  },
  {
   "cell_type": "code",
   "execution_count": 42,
   "id": "b847f16f",
   "metadata": {},
   "outputs": [],
   "source": [
    "kullaniciYasiInt=int(kullaniciYasi)"
   ]
  },
  {
   "cell_type": "code",
   "execution_count": 46,
   "id": "d1bd65b0",
   "metadata": {},
   "outputs": [],
   "source": [
    "y=kullaniciYasiInt*3/5"
   ]
  },
  {
   "cell_type": "code",
   "execution_count": 45,
   "id": "b2ecc62b",
   "metadata": {},
   "outputs": [
    {
     "data": {
      "text/plain": [
       "int"
      ]
     },
     "execution_count": 45,
     "metadata": {},
     "output_type": "execute_result"
    }
   ],
   "source": [
    "type(kullaniciYasiInt)"
   ]
  },
  {
   "cell_type": "code",
   "execution_count": 47,
   "id": "e01bc9b1",
   "metadata": {},
   "outputs": [
    {
     "data": {
      "text/plain": [
       "24.0"
      ]
     },
     "execution_count": 47,
     "metadata": {},
     "output_type": "execute_result"
    }
   ],
   "source": [
    "y"
   ]
  },
  {
   "cell_type": "code",
   "execution_count": 48,
   "id": "96d2c4e8",
   "metadata": {},
   "outputs": [
    {
     "data": {
      "text/plain": [
       "float"
      ]
     },
     "execution_count": 48,
     "metadata": {},
     "output_type": "execute_result"
    }
   ],
   "source": [
    "type(y)"
   ]
  },
  {
   "cell_type": "code",
   "execution_count": 49,
   "id": "962ccece",
   "metadata": {},
   "outputs": [
    {
     "name": "stdout",
     "output_type": "stream",
     "text": [
      "merhaba\n",
      "dünya\n"
     ]
    }
   ],
   "source": [
    "print(\"merhaba\\ndünya\")"
   ]
  },
  {
   "cell_type": "code",
   "execution_count": 1,
   "id": "98a5efce",
   "metadata": {},
   "outputs": [],
   "source": [
    "isimStringi=\"Ayberg Oğuz\""
   ]
  },
  {
   "cell_type": "code",
   "execution_count": 2,
   "id": "dc8392ce",
   "metadata": {},
   "outputs": [
    {
     "data": {
      "text/plain": [
       "'Ayberg Oğuz'"
      ]
     },
     "execution_count": 2,
     "metadata": {},
     "output_type": "execute_result"
    }
   ],
   "source": [
    "isimStringi"
   ]
  },
  {
   "cell_type": "code",
   "execution_count": 3,
   "id": "f9e1690e",
   "metadata": {},
   "outputs": [
    {
     "data": {
      "text/plain": [
       "'A'"
      ]
     },
     "execution_count": 3,
     "metadata": {},
     "output_type": "execute_result"
    }
   ],
   "source": [
    "isimStringi[0]"
   ]
  },
  {
   "cell_type": "code",
   "execution_count": 5,
   "id": "80ce6fa2",
   "metadata": {},
   "outputs": [
    {
     "data": {
      "text/plain": [
       "' '"
      ]
     },
     "execution_count": 5,
     "metadata": {},
     "output_type": "execute_result"
    }
   ],
   "source": [
    "isimStringi[6]"
   ]
  },
  {
   "cell_type": "code",
   "execution_count": 6,
   "id": "e4e46d72",
   "metadata": {},
   "outputs": [
    {
     "data": {
      "text/plain": [
       "'z'"
      ]
     },
     "execution_count": 6,
     "metadata": {},
     "output_type": "execute_result"
    }
   ],
   "source": [
    "isimStringi[-1]"
   ]
  },
  {
   "cell_type": "code",
   "execution_count": 7,
   "id": "fd154b2c",
   "metadata": {},
   "outputs": [],
   "source": [
    "yeniString=\"0123456789\""
   ]
  },
  {
   "cell_type": "code",
   "execution_count": 8,
   "id": "caa1d8e4",
   "metadata": {},
   "outputs": [
    {
     "data": {
      "text/plain": [
       "''"
      ]
     },
     "execution_count": 8,
     "metadata": {},
     "output_type": "execute_result"
    }
   ],
   "source": [
    "yeniString[2:0]"
   ]
  },
  {
   "cell_type": "code",
   "execution_count": 9,
   "id": "ea8d947e",
   "metadata": {},
   "outputs": [
    {
     "data": {
      "text/plain": [
       "'23456789'"
      ]
     },
     "execution_count": 9,
     "metadata": {},
     "output_type": "execute_result"
    }
   ],
   "source": [
    "yeniString[2:]"
   ]
  },
  {
   "cell_type": "code",
   "execution_count": 10,
   "id": "43715d37",
   "metadata": {},
   "outputs": [
    {
     "data": {
      "text/plain": [
       "'234'"
      ]
     },
     "execution_count": 10,
     "metadata": {},
     "output_type": "execute_result"
    }
   ],
   "source": [
    "yeniString[2:5]"
   ]
  },
  {
   "cell_type": "code",
   "execution_count": 11,
   "id": "9c3a829b",
   "metadata": {},
   "outputs": [
    {
     "data": {
      "text/plain": [
       "'012'"
      ]
     },
     "execution_count": 11,
     "metadata": {},
     "output_type": "execute_result"
    }
   ],
   "source": [
    "yeniString[0:3]"
   ]
  },
  {
   "cell_type": "code",
   "execution_count": 12,
   "id": "a460acfe",
   "metadata": {},
   "outputs": [
    {
     "data": {
      "text/plain": [
       "'01234567'"
      ]
     },
     "execution_count": 12,
     "metadata": {},
     "output_type": "execute_result"
    }
   ],
   "source": [
    "yeniString[:-2]"
   ]
  },
  {
   "cell_type": "code",
   "execution_count": 13,
   "id": "081c0429",
   "metadata": {},
   "outputs": [
    {
     "data": {
      "text/plain": [
       "'89'"
      ]
     },
     "execution_count": 13,
     "metadata": {},
     "output_type": "execute_result"
    }
   ],
   "source": [
    "yeniString[-2:]"
   ]
  },
  {
   "cell_type": "code",
   "execution_count": 14,
   "id": "9a952251",
   "metadata": {},
   "outputs": [
    {
     "data": {
      "text/plain": [
       "'45678'"
      ]
     },
     "execution_count": 14,
     "metadata": {},
     "output_type": "execute_result"
    }
   ],
   "source": [
    "yeniString[4:-1]"
   ]
  },
  {
   "cell_type": "code",
   "execution_count": 15,
   "id": "6ea02751",
   "metadata": {},
   "outputs": [
    {
     "data": {
      "text/plain": [
       "'0246'"
      ]
     },
     "execution_count": 15,
     "metadata": {},
     "output_type": "execute_result"
    }
   ],
   "source": [
    "yeniString[0:8:2]"
   ]
  },
  {
   "cell_type": "code",
   "execution_count": 16,
   "id": "091b5d38",
   "metadata": {},
   "outputs": [
    {
     "data": {
      "text/plain": [
       "'9876543210'"
      ]
     },
     "execution_count": 16,
     "metadata": {},
     "output_type": "execute_result"
    }
   ],
   "source": [
    "yeniString[::-1]"
   ]
  },
  {
   "cell_type": "code",
   "execution_count": 17,
   "id": "c33701d6",
   "metadata": {},
   "outputs": [],
   "source": [
    "benimIsmim=\"AYBERG\""
   ]
  },
  {
   "cell_type": "code",
   "execution_count": 18,
   "id": "6df835a8",
   "metadata": {},
   "outputs": [
    {
     "data": {
      "text/plain": [
       "'Ayberg'"
      ]
     },
     "execution_count": 18,
     "metadata": {},
     "output_type": "execute_result"
    }
   ],
   "source": [
    "benimIsmim.capitalize()"
   ]
  },
  {
   "cell_type": "code",
   "execution_count": 19,
   "id": "8e0376a8",
   "metadata": {},
   "outputs": [],
   "source": [
    "benimTamIsmim=\"Halim Ayberg Oğuz\""
   ]
  },
  {
   "cell_type": "code",
   "execution_count": 21,
   "id": "b43bcc81",
   "metadata": {},
   "outputs": [],
   "source": [
    "L=benimTamIsmim.split()"
   ]
  },
  {
   "cell_type": "code",
   "execution_count": 22,
   "id": "7ab65625",
   "metadata": {},
   "outputs": [
    {
     "data": {
      "text/plain": [
       "['Halim', 'Ayberg', 'Oğuz']"
      ]
     },
     "execution_count": 22,
     "metadata": {},
     "output_type": "execute_result"
    }
   ],
   "source": [
    "L"
   ]
  },
  {
   "cell_type": "code",
   "execution_count": 23,
   "id": "75b2e2c4",
   "metadata": {},
   "outputs": [
    {
     "data": {
      "text/plain": [
       "'Halim'"
      ]
     },
     "execution_count": 23,
     "metadata": {},
     "output_type": "execute_result"
    }
   ],
   "source": [
    "L[0]"
   ]
  },
  {
   "cell_type": "code",
   "execution_count": 24,
   "id": "2521402a",
   "metadata": {},
   "outputs": [
    {
     "data": {
      "text/plain": [
       "'ayberg'"
      ]
     },
     "execution_count": 24,
     "metadata": {},
     "output_type": "execute_result"
    }
   ],
   "source": [
    "benimIsmim.lower()"
   ]
  },
  {
   "cell_type": "code",
   "execution_count": null,
   "id": "9494ba4c",
   "metadata": {},
   "outputs": [],
   "source": []
  }
 ],
 "metadata": {
  "kernelspec": {
   "display_name": "Python 3 (ipykernel)",
   "language": "python",
   "name": "python3"
  },
  "language_info": {
   "codemirror_mode": {
    "name": "ipython",
    "version": 3
   },
   "file_extension": ".py",
   "mimetype": "text/x-python",
   "name": "python",
   "nbconvert_exporter": "python",
   "pygments_lexer": "ipython3",
   "version": "3.9.7"
  }
 },
 "nbformat": 4,
 "nbformat_minor": 5
}
