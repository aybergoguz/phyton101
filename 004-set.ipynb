{
 "cells": [
  {
   "cell_type": "code",
   "execution_count": 1,
   "id": "f35ec3fd",
   "metadata": {},
   "outputs": [],
   "source": [
    "benimListem=[1,2,3,1,2,3]"
   ]
  },
  {
   "cell_type": "code",
   "execution_count": 2,
   "id": "d6b977fb",
   "metadata": {},
   "outputs": [
    {
     "data": {
      "text/plain": [
       "[1, 2, 3, 1, 2, 3]"
      ]
     },
     "execution_count": 2,
     "metadata": {},
     "output_type": "execute_result"
    }
   ],
   "source": [
    "benimListem"
   ]
  },
  {
   "cell_type": "code",
   "execution_count": 5,
   "id": "7fe50962",
   "metadata": {},
   "outputs": [],
   "source": [
    "benimListeSetim=set(benimListem)"
   ]
  },
  {
   "cell_type": "code",
   "execution_count": 6,
   "id": "5a7b03ab",
   "metadata": {},
   "outputs": [
    {
     "data": {
      "text/plain": [
       "{1, 2, 3}"
      ]
     },
     "execution_count": 6,
     "metadata": {},
     "output_type": "execute_result"
    }
   ],
   "source": [
    "benimListeSetim"
   ]
  },
  {
   "cell_type": "code",
   "execution_count": 9,
   "id": "d5536332",
   "metadata": {},
   "outputs": [],
   "source": [
    "benimSet={\"a\",\"b\",\"c\",\"a\"}"
   ]
  },
  {
   "cell_type": "code",
   "execution_count": 10,
   "id": "403520a3",
   "metadata": {},
   "outputs": [
    {
     "data": {
      "text/plain": [
       "set"
      ]
     },
     "execution_count": 10,
     "metadata": {},
     "output_type": "execute_result"
    }
   ],
   "source": [
    "type(benimSet)"
   ]
  },
  {
   "cell_type": "code",
   "execution_count": 11,
   "id": "8131e437",
   "metadata": {},
   "outputs": [],
   "source": [
    "bosliste=[]"
   ]
  },
  {
   "cell_type": "code",
   "execution_count": 13,
   "id": "b3abeccb",
   "metadata": {},
   "outputs": [],
   "source": [
    "benimBosSEtim=set()"
   ]
  },
  {
   "cell_type": "code",
   "execution_count": 14,
   "id": "8cea112a",
   "metadata": {},
   "outputs": [],
   "source": [
    "benimBosSEtim.add(10)"
   ]
  },
  {
   "cell_type": "code",
   "execution_count": 15,
   "id": "beeb9845",
   "metadata": {},
   "outputs": [],
   "source": [
    "benimBosSEtim.add(10)"
   ]
  },
  {
   "cell_type": "code",
   "execution_count": 16,
   "id": "43098f6d",
   "metadata": {},
   "outputs": [],
   "source": [
    "benimBosSEtim.add(20)"
   ]
  },
  {
   "cell_type": "code",
   "execution_count": null,
   "id": "5eb84094",
   "metadata": {},
   "outputs": [],
   "source": []
  }
 ],
 "metadata": {
  "kernelspec": {
   "display_name": "Python 3 (ipykernel)",
   "language": "python",
   "name": "python3"
  },
  "language_info": {
   "codemirror_mode": {
    "name": "ipython",
    "version": 3
   },
   "file_extension": ".py",
   "mimetype": "text/x-python",
   "name": "python",
   "nbconvert_exporter": "python",
   "pygments_lexer": "ipython3",
   "version": "3.9.7"
  }
 },
 "nbformat": 4,
 "nbformat_minor": 5
}
