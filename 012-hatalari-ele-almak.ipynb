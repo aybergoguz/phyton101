{
 "cells": [
  {
   "cell_type": "markdown",
   "id": "c17d9470",
   "metadata": {},
   "source": []
  },
  {
   "cell_type": "code",
   "execution_count": null,
   "id": "a10f258b",
   "metadata": {},
   "outputs": [
    {
     "name": "stdout",
     "output_type": "stream",
     "text": [
      "Birinci Sayıyı Giriniz: ayberg\n",
      "Hata\n",
      "Birinci Sayıyı Giriniz: 30\n",
      "Ikinci  Sayıyı Giriniz: 23\n",
      "islemi seçiniz : + - * /4\n",
      "hatalı giriş yaptınız\n",
      "Birinci Sayıyı Giriniz: 10\n",
      "Ikinci  Sayıyı Giriniz: 23\n",
      "islemi seçiniz : + - * /+\n",
      "10 + 23 = 33\n"
     ]
    }
   ],
   "source": [
    "def hesapla(a,b,islem):\n",
    "    if islem not in \"+-*/\":\n",
    "        return \"hatalı giriş yaptınız\"\n",
    "    if islem==\"+\":\n",
    "        return str(a)+\" + \"+str(b)+\" = \" +str(a+b)\n",
    "    if islem==\"-\":\n",
    "        return str(a)+\" - \"+str(b)+\" = \" +str(a-b)\n",
    "    if islem==\"*\":\n",
    "        return str(a)+\" * \"+str(b)+\" = \" +str(a*b)\n",
    "    if islem==\"/\":\n",
    "        return str(a)+\" / \"+str(b)+\" = \" +str(a/b)\n",
    "while True:\n",
    "    try:\n",
    "        a=int(input(\"Birinci Sayıyı Giriniz: \"))\n",
    "        b=int(input(\"Ikinci  Sayıyı Giriniz: \"))\n",
    "        islem=input(\"islemi seçiniz : + - * /\")\n",
    "        print(hesapla(a,b,islem))\n",
    "    except:\n",
    "        print(\"Hata\")"
   ]
  },
  {
   "cell_type": "code",
   "execution_count": null,
   "id": "14aa9ada",
   "metadata": {},
   "outputs": [],
   "source": []
  },
  {
   "cell_type": "code",
   "execution_count": null,
   "id": "07e4306d",
   "metadata": {},
   "outputs": [],
   "source": []
  },
  {
   "cell_type": "code",
   "execution_count": null,
   "id": "14ba429e",
   "metadata": {},
   "outputs": [],
   "source": []
  },
  {
   "cell_type": "code",
   "execution_count": null,
   "id": "f88f1067",
   "metadata": {},
   "outputs": [],
   "source": []
  }
 ],
 "metadata": {
  "kernelspec": {
   "display_name": "Python 3 (ipykernel)",
   "language": "python",
   "name": "python3"
  },
  "language_info": {
   "codemirror_mode": {
    "name": "ipython",
    "version": 3
   },
   "file_extension": ".py",
   "mimetype": "text/x-python",
   "name": "python",
   "nbconvert_exporter": "python",
   "pygments_lexer": "ipython3",
   "version": "3.9.7"
  }
 },
 "nbformat": 4,
 "nbformat_minor": 5
}
