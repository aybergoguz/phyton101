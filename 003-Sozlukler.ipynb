{
 "cells": [
  {
   "cell_type": "code",
   "execution_count": 1,
   "id": "d778ffef",
   "metadata": {},
   "outputs": [],
   "source": [
    "benimSozluk={\"anahtarKelime\": \"değer\"}"
   ]
  },
  {
   "cell_type": "code",
   "execution_count": 2,
   "id": "fb154e26",
   "metadata": {},
   "outputs": [
    {
     "data": {
      "text/plain": [
       "{'anahtarKelime': 'değer'}"
      ]
     },
     "execution_count": 2,
     "metadata": {},
     "output_type": "execute_result"
    }
   ],
   "source": [
    "benimSozluk"
   ]
  },
  {
   "cell_type": "code",
   "execution_count": 3,
   "id": "91714556",
   "metadata": {},
   "outputs": [
    {
     "data": {
      "text/plain": [
       "dict"
      ]
     },
     "execution_count": 3,
     "metadata": {},
     "output_type": "execute_result"
    }
   ],
   "source": [
    "type(benimSozluk)"
   ]
  },
  {
   "cell_type": "code",
   "execution_count": 5,
   "id": "6b364241",
   "metadata": {},
   "outputs": [],
   "source": [
    "seninMeyveler={\"elma\":100,\"karpuz\":200,\"muz\":300}"
   ]
  },
  {
   "cell_type": "code",
   "execution_count": 6,
   "id": "23c6ddae",
   "metadata": {},
   "outputs": [
    {
     "data": {
      "text/plain": [
       "{'elma': 100, 'karpuz': 200, 'muz': 300}"
      ]
     },
     "execution_count": 6,
     "metadata": {},
     "output_type": "execute_result"
    }
   ],
   "source": [
    "seninMeyveler"
   ]
  },
  {
   "cell_type": "code",
   "execution_count": 8,
   "id": "e6713bc7",
   "metadata": {},
   "outputs": [
    {
     "data": {
      "text/plain": [
       "300"
      ]
     },
     "execution_count": 8,
     "metadata": {},
     "output_type": "execute_result"
    }
   ],
   "source": [
    "seninMeyveler[\"muz\"]"
   ]
  },
  {
   "cell_type": "code",
   "execution_count": 9,
   "id": "4d4ad839",
   "metadata": {},
   "outputs": [],
   "source": [
    "seninMeyveler[\"elma\"]=500"
   ]
  },
  {
   "cell_type": "code",
   "execution_count": 10,
   "id": "a4371dfd",
   "metadata": {},
   "outputs": [
    {
     "data": {
      "text/plain": [
       "{'elma': 500, 'karpuz': 200, 'muz': 300}"
      ]
     },
     "execution_count": 10,
     "metadata": {},
     "output_type": "execute_result"
    }
   ],
   "source": [
    "seninMeyveler"
   ]
  },
  {
   "cell_type": "code",
   "execution_count": 11,
   "id": "b2f06da3",
   "metadata": {},
   "outputs": [],
   "source": [
    "benimAdlarim={1:\"halim\",2:\"ayberg\"}"
   ]
  },
  {
   "cell_type": "code",
   "execution_count": 12,
   "id": "0bb8b0b2",
   "metadata": {},
   "outputs": [
    {
     "data": {
      "text/plain": [
       "'halim'"
      ]
     },
     "execution_count": 12,
     "metadata": {},
     "output_type": "execute_result"
    }
   ],
   "source": [
    "benimAdlarim[1]"
   ]
  },
  {
   "cell_type": "code",
   "execution_count": 20,
   "id": "0240c100",
   "metadata": {},
   "outputs": [],
   "source": [
    "yeniDic={\"anahtar1\":100,\"anahtar2\":[10,20,3.5,\"ali\"],\"anahtar3\":{\"anahtar9\":4}}"
   ]
  },
  {
   "cell_type": "code",
   "execution_count": 15,
   "id": "db0255e9",
   "metadata": {},
   "outputs": [
    {
     "data": {
      "text/plain": [
       "dict_keys(['anahtar1', 'anahtar2', 'anhtar3'])"
      ]
     },
     "execution_count": 15,
     "metadata": {},
     "output_type": "execute_result"
    }
   ],
   "source": [
    "yeniDic.keys()"
   ]
  },
  {
   "cell_type": "code",
   "execution_count": 16,
   "id": "e04f8686",
   "metadata": {},
   "outputs": [
    {
     "data": {
      "text/plain": [
       "dict_values([100, [10, 20, 3.5, 'ali'], {'anahtar9': 4}])"
      ]
     },
     "execution_count": 16,
     "metadata": {},
     "output_type": "execute_result"
    }
   ],
   "source": [
    "yeniDic.values()"
   ]
  },
  {
   "cell_type": "code",
   "execution_count": 27,
   "id": "a00e4caa",
   "metadata": {},
   "outputs": [],
   "source": [
    "x=yeniDic[\"anahtar3\"][\"anahtar9\"]"
   ]
  },
  {
   "cell_type": "code",
   "execution_count": 28,
   "id": "46fc0684",
   "metadata": {},
   "outputs": [
    {
     "data": {
      "text/plain": [
       "4"
      ]
     },
     "execution_count": 28,
     "metadata": {},
     "output_type": "execute_result"
    }
   ],
   "source": [
    "x"
   ]
  },
  {
   "cell_type": "code",
   "execution_count": 26,
   "id": "3396f5d3",
   "metadata": {},
   "outputs": [
    {
     "data": {
      "text/plain": [
       "'ali'"
      ]
     },
     "execution_count": 26,
     "metadata": {},
     "output_type": "execute_result"
    }
   ],
   "source": [
    "yeniDic[\"anahtar2\"][-1]"
   ]
  },
  {
   "cell_type": "code",
   "execution_count": null,
   "id": "04e836e5",
   "metadata": {},
   "outputs": [],
   "source": []
  }
 ],
 "metadata": {
  "kernelspec": {
   "display_name": "Python 3 (ipykernel)",
   "language": "python",
   "name": "python3"
  },
  "language_info": {
   "codemirror_mode": {
    "name": "ipython",
    "version": 3
   },
   "file_extension": ".py",
   "mimetype": "text/x-python",
   "name": "python",
   "nbconvert_exporter": "python",
   "pygments_lexer": "ipython3",
   "version": "3.9.7"
  }
 },
 "nbformat": 4,
 "nbformat_minor": 5
}
