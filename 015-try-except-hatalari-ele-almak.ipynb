{
 "cells": [
  {
   "cell_type": "code",
   "execution_count": 2,
   "id": "c19088b1",
   "metadata": {},
   "outputs": [
    {
     "name": "stdout",
     "output_type": "stream",
     "text": [
      "numara giriniz:  er\n",
      "bu numara değil\n",
      "finally çağrıldı\n",
      "numara giriniz:  ay\n",
      "bu numara değil\n",
      "finally çağrıldı\n",
      "numara giriniz:  20\n",
      "teşekkürler\n",
      "finally çağrıldı\n"
     ]
    }
   ],
   "source": [
    "while True:\n",
    "    try:\n",
    "        benimInt=int(input(\"numara giriniz:  \"))\n",
    "    except:\n",
    "        print(\"bu numara değil\")\n",
    "        continue\n",
    "    else:\n",
    "        print(\"teşekkürler\")\n",
    "        break\n",
    "    finally:\n",
    "        print(\"finally çağrıldı\")"
   ]
  },
  {
   "cell_type": "code",
   "execution_count": null,
   "id": "22694e83",
   "metadata": {},
   "outputs": [],
   "source": []
  },
  {
   "cell_type": "code",
   "execution_count": null,
   "id": "be6cef34",
   "metadata": {},
   "outputs": [],
   "source": []
  }
 ],
 "metadata": {
  "kernelspec": {
   "display_name": "Python 3 (ipykernel)",
   "language": "python",
   "name": "python3"
  },
  "language_info": {
   "codemirror_mode": {
    "name": "ipython",
    "version": 3
   },
   "file_extension": ".py",
   "mimetype": "text/x-python",
   "name": "python",
   "nbconvert_exporter": "python",
   "pygments_lexer": "ipython3",
   "version": "3.9.7"
  }
 },
 "nbformat": 4,
 "nbformat_minor": 5
}
